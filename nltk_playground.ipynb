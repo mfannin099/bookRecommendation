{
 "cells": [
  {
   "cell_type": "code",
   "execution_count": null,
   "id": "1431d80f",
   "metadata": {},
   "outputs": [
    {
     "ename": "NameError",
     "evalue": "name 'fuzz' is not defined",
     "output_type": "error",
     "traceback": [
      "\u001b[1;31m---------------------------------------------------------------------------\u001b[0m",
      "\u001b[1;31mNameError\u001b[0m                                 Traceback (most recent call last)",
      "\u001b[1;32m~\\AppData\\Local\\Temp\\ipykernel_20356\\3542825089.py\u001b[0m in \u001b[0;36m<module>\u001b[1;34m\u001b[0m\n\u001b[0;32m     15\u001b[0m final_books_df['match_score'] = [\n\u001b[0;32m     16\u001b[0m     \u001b[0mfuzz\u001b[0m\u001b[1;33m.\u001b[0m\u001b[0mpartial_ratio\u001b[0m\u001b[1;33m(\u001b[0m\u001b[0mrow_title\u001b[0m\u001b[1;33m,\u001b[0m \u001b[0mlist_title\u001b[0m\u001b[1;33m)\u001b[0m\u001b[1;33m\u001b[0m\u001b[1;33m\u001b[0m\u001b[0m\n\u001b[1;32m---> 17\u001b[1;33m     \u001b[1;32mfor\u001b[0m \u001b[0mrow_title\u001b[0m\u001b[1;33m,\u001b[0m \u001b[0mlist_title\u001b[0m \u001b[1;32min\u001b[0m \u001b[0mzip\u001b[0m\u001b[1;33m(\u001b[0m\u001b[0mfinal_books_df\u001b[0m\u001b[1;33m[\u001b[0m\u001b[1;34m'full_title'\u001b[0m\u001b[1;33m]\u001b[0m\u001b[1;33m,\u001b[0m \u001b[0mtitles_l\u001b[0m\u001b[1;33m)\u001b[0m\u001b[1;33m\u001b[0m\u001b[1;33m\u001b[0m\u001b[0m\n\u001b[0m\u001b[0;32m     18\u001b[0m ]\n\u001b[0;32m     19\u001b[0m \u001b[0mfinal_books_df\u001b[0m \u001b[1;33m=\u001b[0m \u001b[0mfinal_books_df\u001b[0m\u001b[1;33m[\u001b[0m\u001b[0mfinal_books_df\u001b[0m\u001b[1;33m[\u001b[0m\u001b[1;34m'match_score'\u001b[0m\u001b[1;33m]\u001b[0m \u001b[1;33m>=\u001b[0m \u001b[0mMATCH_SCORE\u001b[0m\u001b[1;33m]\u001b[0m\u001b[1;33m\u001b[0m\u001b[1;33m\u001b[0m\u001b[0m\n",
      "\u001b[1;32m~\\AppData\\Local\\Temp\\ipykernel_20356\\3542825089.py\u001b[0m in \u001b[0;36m<listcomp>\u001b[1;34m(.0)\u001b[0m\n\u001b[0;32m     15\u001b[0m final_books_df['match_score'] = [\n\u001b[0;32m     16\u001b[0m     \u001b[0mfuzz\u001b[0m\u001b[1;33m.\u001b[0m\u001b[0mpartial_ratio\u001b[0m\u001b[1;33m(\u001b[0m\u001b[0mrow_title\u001b[0m\u001b[1;33m,\u001b[0m \u001b[0mlist_title\u001b[0m\u001b[1;33m)\u001b[0m\u001b[1;33m\u001b[0m\u001b[1;33m\u001b[0m\u001b[0m\n\u001b[1;32m---> 17\u001b[1;33m     \u001b[1;32mfor\u001b[0m \u001b[0mrow_title\u001b[0m\u001b[1;33m,\u001b[0m \u001b[0mlist_title\u001b[0m \u001b[1;32min\u001b[0m \u001b[0mzip\u001b[0m\u001b[1;33m(\u001b[0m\u001b[0mfinal_books_df\u001b[0m\u001b[1;33m[\u001b[0m\u001b[1;34m'full_title'\u001b[0m\u001b[1;33m]\u001b[0m\u001b[1;33m,\u001b[0m \u001b[0mtitles_l\u001b[0m\u001b[1;33m)\u001b[0m\u001b[1;33m\u001b[0m\u001b[1;33m\u001b[0m\u001b[0m\n\u001b[0m\u001b[0;32m     18\u001b[0m ]\n\u001b[0;32m     19\u001b[0m \u001b[0mfinal_books_df\u001b[0m \u001b[1;33m=\u001b[0m \u001b[0mfinal_books_df\u001b[0m\u001b[1;33m[\u001b[0m\u001b[0mfinal_books_df\u001b[0m\u001b[1;33m[\u001b[0m\u001b[1;34m'match_score'\u001b[0m\u001b[1;33m]\u001b[0m \u001b[1;33m>=\u001b[0m \u001b[0mMATCH_SCORE\u001b[0m\u001b[1;33m]\u001b[0m\u001b[1;33m\u001b[0m\u001b[1;33m\u001b[0m\u001b[0m\n",
      "\u001b[1;31mNameError\u001b[0m: name 'fuzz' is not defined"
     ]
    }
   ],
   "source": [
    "import os \n",
    "import requests\n",
    "import pandas as pd\n",
    "import numpy as np\n",
    "import thefuzz\n",
    "\n",
    "from utils import check_to_run_initial_data_load, pull_from_google_books, create_library\n",
    "from utils import titles_l # Input data\n",
    "from utils import authors_l # Input data\n",
    "\n",
    "MATCH_SCORE = 70\n",
    "\n",
    "final_books_df = pd.read_csv('library.csv')\n",
    "\n",
    "final_books_df['match_score'] = [\n",
    "    thefuzz.partial_ratio(row_title, list_title) \n",
    "    for row_title, list_title in zip(final_books_df['full_title'], titles_l)\n",
    "]\n",
    "final_books_df = final_books_df[final_books_df['match_score'] >= MATCH_SCORE]\n",
    "print(final_books_df)\n"
   ]
  },
  {
   "cell_type": "code",
   "execution_count": null,
   "id": "a62df43f",
   "metadata": {},
   "outputs": [
    {
     "ename": "ModuleNotFoundError",
     "evalue": "No module named 'pyarrow'",
     "output_type": "error",
     "traceback": [
      "\u001b[1;31m---------------------------------------------------------------------------\u001b[0m",
      "\u001b[1;31mModuleNotFoundError\u001b[0m                       Traceback (most recent call last)",
      "\u001b[1;32m~\\AppData\\Local\\Temp\\ipykernel_28624\\3801121623.py\u001b[0m in \u001b[0;36m<module>\u001b[1;34m\u001b[0m\n\u001b[1;32m----> 1\u001b[1;33m \u001b[1;32mimport\u001b[0m \u001b[0mpyarrow\u001b[0m\u001b[1;33m\u001b[0m\u001b[1;33m\u001b[0m\u001b[0m\n\u001b[0m\u001b[0;32m      2\u001b[0m \u001b[1;32mimport\u001b[0m \u001b[0mfastparquet\u001b[0m\u001b[1;33m\u001b[0m\u001b[1;33m\u001b[0m\u001b[0m\n",
      "\u001b[1;31mModuleNotFoundError\u001b[0m: No module named 'pyarrow'"
     ]
    }
   ],
   "source": [
    "import pyarrow\n",
    "import fastparquet"
   ]
  }
 ],
 "metadata": {
  "kernelspec": {
   "display_name": "book_env",
   "language": "python",
   "name": "python3"
  },
  "language_info": {
   "codemirror_mode": {
    "name": "ipython",
    "version": 3
   },
   "file_extension": ".py",
   "mimetype": "text/x-python",
   "name": "python",
   "nbconvert_exporter": "python",
   "pygments_lexer": "ipython3",
   "version": "3.7.9"
  }
 },
 "nbformat": 4,
 "nbformat_minor": 5
}
